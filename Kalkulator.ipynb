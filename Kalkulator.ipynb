{
 "cells": [
  {
   "cell_type": "code",
   "execution_count": 1,
   "metadata": {},
   "outputs": [],
   "source": [
    "# main.py\n",
    "import keyboard\n",
    "\n",
    "from screen_capture import select_region, capture_screenshot\n",
    "from ocr_processing import get_clean_text_from_image, solve_operation\n",
    "from display import display_text, display_image_async"
   ]
  },
  {
   "cell_type": "code",
   "execution_count": 2,
   "metadata": {},
   "outputs": [],
   "source": [
    "def take_screenshot_and_solve():\n",
    "    region = select_region()\n",
    "    image = capture_screenshot(region)\n",
    "    display_image_async(image)\n",
    "    \n",
    "    expression = get_clean_text_from_image(image)\n",
    "    result = solve_operation(expression)\n",
    "    display_text(f\"Expression : {expression}\\n\\nRésultat : {result}\")"
   ]
  },
  {
   "cell_type": "code",
   "execution_count": null,
   "metadata": {},
   "outputs": [],
   "source": [
    "take_screenshot_and_solve()"
   ]
  },
  {
   "cell_type": "code",
   "execution_count": 4,
   "metadata": {},
   "outputs": [
    {
     "name": "stderr",
     "output_type": "stream",
     "text": [
      "Exception in thread Thread-8 (display_image_top_left):\n",
      "Traceback (most recent call last):\n",
      "  File \"c:\\Users\\lambe\\AppData\\Local\\anaconda3\\lib\\threading.py\", line 1016, in _bootstrap_inner\n",
      "    self.run()\n",
      "  File \"c:\\Users\\lambe\\AppData\\Local\\anaconda3\\lib\\threading.py\", line 953, in run\n",
      "    self._target(*self._args, **self._kwargs)\n",
      "  File \"c:\\python_scripts\\Kalkulator\\display.py\", line 34, in display_image_top_left\n",
      "    if global_window and global_window.winfo_exists():\n",
      "  File \"c:\\Users\\lambe\\AppData\\Local\\anaconda3\\lib\\tkinter\\__init__.py\", line 1112, in winfo_exists\n",
      "    self.tk.call('winfo', 'exists', self._w))\n",
      "RuntimeError: main thread is not in main loop\n"
     ]
    }
   ],
   "source": [
    "display_image_async(r\"C:\\python_scripts\\Kalkulator\\test\\Capture d'écran test.png\")"
   ]
  },
  {
   "cell_type": "code",
   "execution_count": 27,
   "metadata": {},
   "outputs": [
    {
     "data": {
      "image/png": "[encoded data removed]",
      "text/plain": [
       "<PIL.PngImagePlugin.PngImageFile image mode=RGBA size=202x75>"
      ]
     },
     "execution_count": 27,
     "metadata": {},
     "output_type": "execute_result"
    }
   ],
   "source": [
    "file_path = r\"C:\\python_scripts\\Kalkulator\\test\\Capture d'écran test.png\"\n",
    "custom_config = r'tessedit_char_whitelist=\"0123456789÷'\n",
    "\n",
    "# Extraire le texte\n",
    "result = pytesseract.image_to_data(Image.open(file_path), config=custom_config, output_type = pytesseract.Output.DICT)\n",
    "Image.open(file_path)"
   ]
  }
 ],
 "metadata": {
  "kernelspec": {
   "display_name": "base",
   "language": "python",
   "name": "python3"
  },
  "language_info": {
   "codemirror_mode": {
    "name": "ipython",
    "version": 3
   },
   "file_extension": ".py",
   "mimetype": "text/x-python",
   "name": "python",
   "nbconvert_exporter": "python",
   "pygments_lexer": "ipython3",
   "version": "3.10.13"
  }
 },
 "nbformat": 4,
 "nbformat_minor": 2
}
